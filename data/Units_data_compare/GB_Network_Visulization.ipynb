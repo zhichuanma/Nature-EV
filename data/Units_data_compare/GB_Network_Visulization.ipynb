{
 "cells": [
  {
   "cell_type": "code",
   "execution_count": null,
   "id": "8a8061a7",
   "metadata": {},
   "outputs": [],
   "source": [
    "import folium"
   ]
  }
 ],
 "metadata": {
  "kernelspec": {
   "display_name": "NatureEV",
   "language": "python",
   "name": "python3"
  },
  "language_info": {
   "name": "python",
   "version": "3.13.5"
  }
 },
 "nbformat": 4,
 "nbformat_minor": 5
}
