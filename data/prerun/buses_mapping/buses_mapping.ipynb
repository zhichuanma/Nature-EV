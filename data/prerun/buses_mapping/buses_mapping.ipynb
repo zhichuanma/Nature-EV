{
 "cells": [
  {
   "cell_type": "markdown",
   "id": "1ebf73c5",
   "metadata": {},
   "source": [
    "# Buses Mapping"
   ]
  },
  {
   "cell_type": "code",
   "execution_count": 56,
   "id": "7164b669",
   "metadata": {},
   "outputs": [],
   "source": [
    "import pandas as pd\n",
    "import folium\n",
    "\n",
    "df_buses_385 = pd.read_csv('buses_385.csv')\n",
    "df_buses_501 = pd.read_csv('buses_501.csv')\n",
    "\n",
    "df_lines = pd.read_csv('lines_501.csv')\n",
    "\n",
    "x = dict(zip(df_buses_501['bus_id'], df_buses_501['x']))\n",
    "y = dict(zip(df_buses_501['bus_id'], df_buses_501['y']))"
   ]
  },
  {
   "cell_type": "code",
   "execution_count": 57,
   "id": "7363698d",
   "metadata": {},
   "outputs": [],
   "source": [
    "map_GB = folium.Map(location=[54, -2], zoom_start=6, tiles=\"CartoDB positron\")\n",
    "\n",
    "for _, row in df_buses_385.iterrows():\n",
    "    folium.CircleMarker(\n",
    "        location=[row[\"y\"], row[\"x\"]],\n",
    "        radius=2,\n",
    "        color=\"green\",\n",
    "        fill=True,\n",
    "        fill_opacity=0.7,\n",
    "        popup=row.get(\"name\", \"\")\n",
    "    ).add_to(map_GB)"
   ]
  },
  {
   "cell_type": "code",
   "execution_count": 58,
   "id": "4eb50fe2",
   "metadata": {},
   "outputs": [],
   "source": [
    "for _, row in df_buses_501.iterrows():\n",
    "    folium.CircleMarker(\n",
    "        location=[row[\"y\"], row[\"x\"]],\n",
    "        radius=2,\n",
    "        color=\"red\",\n",
    "        fill=True,\n",
    "        fill_opacity=0.7,\n",
    "        popup=row.get(\"name\", \"\")\n",
    "    ).add_to(map_GB)"
   ]
  },
  {
   "cell_type": "markdown",
   "id": "541661b4",
   "metadata": {},
   "source": [
    "# Add Lines"
   ]
  },
  {
   "cell_type": "code",
   "execution_count": 60,
   "id": "20822c81",
   "metadata": {},
   "outputs": [
    {
     "name": "stdout",
     "output_type": "stream",
     "text": [
      "Missing bus in coordinate mapping: 'way/264275258-275'\n",
      "Missing bus in coordinate mapping: 'way/264275258-275'\n"
     ]
    }
   ],
   "source": [
    "for _, row in df_lines.iterrows():\n",
    "    bus0, bus1 = row['bus0'], row['bus1']\n",
    "    \n",
    "    try:\n",
    "        coord0 = (y[bus0], x[bus0])\n",
    "        coord1 = (y[bus1], x[bus1])\n",
    "\n",
    "        folium.PolyLine(\n",
    "            locations=[coord0, coord1],\n",
    "            color='black',\n",
    "            weight=1,\n",
    "            opacity=0.8,\n",
    "            popup=f\"{bus0} → {bus1}\"\n",
    "        ).add_to(map_GB)\n",
    "    \n",
    "    except KeyError as e:\n",
    "        print(f\"Missing bus in coordinate mapping: {e}\")\n",
    "        continue\n"
   ]
  },
  {
   "cell_type": "code",
   "execution_count": 61,
   "id": "8131dd8c",
   "metadata": {},
   "outputs": [],
   "source": [
    "map_GB.save(\"buses_compare.html\")"
   ]
  }
 ],
 "metadata": {
  "kernelspec": {
   "display_name": "NatureEV",
   "language": "python",
   "name": "python3"
  },
  "language_info": {
   "codemirror_mode": {
    "name": "ipython",
    "version": 3
   },
   "file_extension": ".py",
   "mimetype": "text/x-python",
   "name": "python",
   "nbconvert_exporter": "python",
   "pygments_lexer": "ipython3",
   "version": "3.10.18"
  }
 },
 "nbformat": 4,
 "nbformat_minor": 5
}
