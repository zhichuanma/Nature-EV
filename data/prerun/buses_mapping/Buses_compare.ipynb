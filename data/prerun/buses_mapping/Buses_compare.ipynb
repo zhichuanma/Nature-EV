{
 "cells": [
  {
   "cell_type": "markdown",
   "id": "1ebf73c5",
   "metadata": {},
   "source": [
    "# Buses Compare"
   ]
  },
  {
   "cell_type": "code",
   "execution_count": 1,
   "id": "7164b669",
   "metadata": {},
   "outputs": [],
   "source": [
    "import pandas as pd\n",
    "import folium\n",
    "\n",
    "df_buses_385 = pd.read_csv('buses_385.csv')\n",
    "df_buses_501 = pd.read_csv('buses_501.csv')\n",
    "\n",
    "df_lines = pd.read_csv('lines_501.csv')\n",
    "\n",
    "x = dict(zip(df_buses_501['bus_id'], df_buses_501['x']))\n",
    "y = dict(zip(df_buses_501['bus_id'], df_buses_501['y']))"
   ]
  },
  {
   "cell_type": "code",
   "execution_count": 2,
   "id": "7363698d",
   "metadata": {},
   "outputs": [],
   "source": [
    "map_GB = folium.Map(location=[54, -2], zoom_start=6, tiles=\"CartoDB positron\")\n",
    "\n",
    "for _, row in df_buses_385.iterrows():\n",
    "    \n",
    "    popup_html = f\"\"\"\n",
    "    <b>Bus ID:</b> {row.get(\"buses_id\", \"\")}<br>\n",
    "    <b>x:</b> {row.get(\"x\", \"\")}<br>\n",
    "    <b>y:</b> {row.get(\"y\", \"\")}\n",
    "    \"\"\"\n",
    "\n",
    "    folium.CircleMarker(\n",
    "        location=[row[\"y\"], row[\"x\"]],\n",
    "        radius=2,\n",
    "        color=\"green\",\n",
    "        fill=True,\n",
    "        fill_opacity=0.7,\n",
    "        popup=folium.Popup(popup_html, max_width=200)\n",
    "    ).add_to(map_GB)"
   ]
  },
  {
   "cell_type": "code",
   "execution_count": 3,
   "id": "4eb50fe2",
   "metadata": {},
   "outputs": [],
   "source": [
    "for _, row in df_buses_501.iterrows():\n",
    "\n",
    "    popup_html = f\"\"\"\n",
    "    <b>Bus ID:</b> {row.get(\"bus_id\", \"\")}<br>\n",
    "    <b>x:</b> {row.get(\"x\", \"\")}<br>\n",
    "    <b>y:</b> {row.get(\"y\", \"\")}\n",
    "    \"\"\"\n",
    "\n",
    "    folium.CircleMarker(\n",
    "        location=[row[\"y\"], row[\"x\"]],\n",
    "        radius=2,\n",
    "        color=\"red\",\n",
    "        fill=True,\n",
    "        fill_opacity=0.7,\n",
    "        popup=folium.Popup(popup_html, max_width=200)\n",
    "    ).add_to(map_GB)"
   ]
  },
  {
   "cell_type": "markdown",
   "id": "b4ce572d",
   "metadata": {},
   "source": [
    "## Add units(generators)"
   ]
  },
  {
   "cell_type": "code",
   "execution_count": 4,
   "id": "07bca36a",
   "metadata": {},
   "outputs": [
    {
     "data": {
      "text/html": [
       "<div>\n",
       "<style scoped>\n",
       "    .dataframe tbody tr th:only-of-type {\n",
       "        vertical-align: middle;\n",
       "    }\n",
       "\n",
       "    .dataframe tbody tr th {\n",
       "        vertical-align: top;\n",
       "    }\n",
       "\n",
       "    .dataframe thead th {\n",
       "        text-align: right;\n",
       "    }\n",
       "</style>\n",
       "<table border=\"1\" class=\"dataframe\">\n",
       "  <thead>\n",
       "    <tr style=\"text-align: right;\">\n",
       "      <th></th>\n",
       "      <th>NationalGridBmUnit</th>\n",
       "      <th>carrier</th>\n",
       "      <th>bus</th>\n",
       "      <th>lon</th>\n",
       "      <th>lat</th>\n",
       "      <th>capacity</th>\n",
       "    </tr>\n",
       "  </thead>\n",
       "  <tbody>\n",
       "    <tr>\n",
       "      <th>0</th>\n",
       "      <td>IBG-EGEN1</td>\n",
       "      <td>interconnector</td>\n",
       "      <td>4969</td>\n",
       "      <td>0.6530000000000001</td>\n",
       "      <td>51.46000000000001</td>\n",
       "      <td>0.0</td>\n",
       "    </tr>\n",
       "    <tr>\n",
       "      <th>1</th>\n",
       "      <td>IBG-ENGI1</td>\n",
       "      <td>interconnector</td>\n",
       "      <td>4969</td>\n",
       "      <td>0.6530000000000001</td>\n",
       "      <td>51.46000000000001</td>\n",
       "      <td>0.0</td>\n",
       "    </tr>\n",
       "    <tr>\n",
       "      <th>2</th>\n",
       "      <td>IBG-RSQ1</td>\n",
       "      <td>interconnector</td>\n",
       "      <td>4969</td>\n",
       "      <td>0.6530000000000001</td>\n",
       "      <td>51.46000000000001</td>\n",
       "      <td>0.0</td>\n",
       "    </tr>\n",
       "    <tr>\n",
       "      <th>3</th>\n",
       "      <td>IVD-VKL1</td>\n",
       "      <td>interconnector</td>\n",
       "      <td>7909</td>\n",
       "      <td>-0.221</td>\n",
       "      <td>52.931</td>\n",
       "      <td>0.0</td>\n",
       "    </tr>\n",
       "    <tr>\n",
       "      <th>4</th>\n",
       "      <td>IVG-VKL1</td>\n",
       "      <td>interconnector</td>\n",
       "      <td>7909</td>\n",
       "      <td>-0.221</td>\n",
       "      <td>52.931</td>\n",
       "      <td>0.0</td>\n",
       "    </tr>\n",
       "    <tr>\n",
       "      <th>...</th>\n",
       "      <td>...</td>\n",
       "      <td>...</td>\n",
       "      <td>...</td>\n",
       "      <td>...</td>\n",
       "      <td>...</td>\n",
       "      <td>...</td>\n",
       "    </tr>\n",
       "    <tr>\n",
       "      <th>1060</th>\n",
       "      <td>SFERD-1</td>\n",
       "      <td>demand_flex</td>\n",
       "      <td>distributed</td>\n",
       "      <td>distributed</td>\n",
       "      <td>distributed</td>\n",
       "      <td>240.0</td>\n",
       "    </tr>\n",
       "    <tr>\n",
       "      <th>1061</th>\n",
       "      <td>EAS-SEL01</td>\n",
       "      <td>demand_flex</td>\n",
       "      <td>distributed</td>\n",
       "      <td>distributed</td>\n",
       "      <td>distributed</td>\n",
       "      <td>0.0</td>\n",
       "    </tr>\n",
       "    <tr>\n",
       "      <th>1062</th>\n",
       "      <td>SEE-PGU01</td>\n",
       "      <td>demand_flex</td>\n",
       "      <td>distributed</td>\n",
       "      <td>distributed</td>\n",
       "      <td>distributed</td>\n",
       "      <td>0.0</td>\n",
       "    </tr>\n",
       "    <tr>\n",
       "      <th>1063</th>\n",
       "      <td>YEP-ATL01</td>\n",
       "      <td>demand_flex</td>\n",
       "      <td>distributed</td>\n",
       "      <td>distributed</td>\n",
       "      <td>distributed</td>\n",
       "      <td>0.0</td>\n",
       "    </tr>\n",
       "    <tr>\n",
       "      <th>1064</th>\n",
       "      <td>YEP-PGU01</td>\n",
       "      <td>demand_flex</td>\n",
       "      <td>distributed</td>\n",
       "      <td>distributed</td>\n",
       "      <td>distributed</td>\n",
       "      <td>0.0</td>\n",
       "    </tr>\n",
       "  </tbody>\n",
       "</table>\n",
       "<p>1065 rows × 6 columns</p>\n",
       "</div>"
      ],
      "text/plain": [
       "     NationalGridBmUnit         carrier          bus                 lon  \\\n",
       "0             IBG-EGEN1  interconnector         4969  0.6530000000000001   \n",
       "1             IBG-ENGI1  interconnector         4969  0.6530000000000001   \n",
       "2              IBG-RSQ1  interconnector         4969  0.6530000000000001   \n",
       "3              IVD-VKL1  interconnector         7909              -0.221   \n",
       "4              IVG-VKL1  interconnector         7909              -0.221   \n",
       "...                 ...             ...          ...                 ...   \n",
       "1060            SFERD-1     demand_flex  distributed         distributed   \n",
       "1061          EAS-SEL01     demand_flex  distributed         distributed   \n",
       "1062          SEE-PGU01     demand_flex  distributed         distributed   \n",
       "1063          YEP-ATL01     demand_flex  distributed         distributed   \n",
       "1064          YEP-PGU01     demand_flex  distributed         distributed   \n",
       "\n",
       "                    lat  capacity  \n",
       "0     51.46000000000001       0.0  \n",
       "1     51.46000000000001       0.0  \n",
       "2     51.46000000000001       0.0  \n",
       "3                52.931       0.0  \n",
       "4                52.931       0.0  \n",
       "...                 ...       ...  \n",
       "1060        distributed     240.0  \n",
       "1061        distributed       0.0  \n",
       "1062        distributed       0.0  \n",
       "1063        distributed       0.0  \n",
       "1064        distributed       0.0  \n",
       "\n",
       "[1065 rows x 6 columns]"
      ]
     },
     "execution_count": 4,
     "metadata": {},
     "output_type": "execute_result"
    }
   ],
   "source": [
    "df_units_capacity = pd.read_csv('../../GBPower_raw/bmus_prepared.csv')\n",
    "df_units = pd.read_csv('../../GBPower_raw/prepared_bmus.csv')\n",
    "\n",
    "df_units['capacity'] = df_units_capacity['capacity']\n",
    "df_units"
   ]
  },
  {
   "cell_type": "code",
   "execution_count": 5,
   "id": "3d68a109",
   "metadata": {},
   "outputs": [],
   "source": [
    "for _, row in df_units.iterrows():\n",
    "    if row.get(\"lon\") == 'distributed':\n",
    "        continue\n",
    "    popup_html = f\"\"\"\n",
    "    <b>Unit:</b> {row.get(\"NationalGridBmUnit\", \"\")}<br>\n",
    "    <b>x:</b> {row.get(\"lon\", \"\")}<br>\n",
    "    <b>y:</b> {row.get(\"lat\", \"\")}<br>\n",
    "    <b>Capacity:</b> {row.get(\"capacity\", \"\")}\n",
    "    \"\"\"\n",
    "\n",
    "    folium.CircleMarker(\n",
    "        location=[row[\"lat\"], row[\"lon\"]],\n",
    "        radius=2,\n",
    "        color=\"purple\",\n",
    "        fill=True,\n",
    "        fill_opacity=0.7,\n",
    "        popup=folium.Popup(popup_html, max_width=200)\n",
    "    ).add_to(map_GB)"
   ]
  },
  {
   "cell_type": "markdown",
   "id": "541661b4",
   "metadata": {},
   "source": [
    "# Add Lines between buses"
   ]
  },
  {
   "cell_type": "code",
   "execution_count": 6,
   "id": "20822c81",
   "metadata": {},
   "outputs": [
    {
     "name": "stdout",
     "output_type": "stream",
     "text": [
      "Missing bus in coordinate mapping: 'way/264275258-275'\n",
      "Missing bus in coordinate mapping: 'way/264275258-275'\n"
     ]
    }
   ],
   "source": [
    "for _, row in df_lines.iterrows():\n",
    "    bus0, bus1 = row['bus0'], row['bus1']\n",
    "    \n",
    "    try:\n",
    "        coord0 = (y[bus0], x[bus0])\n",
    "        coord1 = (y[bus1], x[bus1])\n",
    "\n",
    "        folium.PolyLine(\n",
    "            locations=[coord0, coord1],\n",
    "            color='blue',\n",
    "            weight=1.2,\n",
    "            opacity=0.8,\n",
    "            popup=f\"{bus0} → {bus1}\"\n",
    "        ).add_to(map_GB)\n",
    "    \n",
    "    except KeyError as e:\n",
    "        print(f\"Missing bus in coordinate mapping: {e}\")\n",
    "        continue\n"
   ]
  },
  {
   "cell_type": "markdown",
   "id": "0be7a870",
   "metadata": {},
   "source": [
    "## Add Lines between buses and generators"
   ]
  },
  {
   "cell_type": "code",
   "execution_count": 121,
   "id": "fbc00a5f",
   "metadata": {},
   "outputs": [
    {
     "name": "stdout",
     "output_type": "stream",
     "text": [
      "Missing bus in coordinate mapping: 'distributed'\n",
      "Missing bus in coordinate mapping: 'distributed'\n",
      "Missing bus in coordinate mapping: 'distributed'\n",
      "Missing bus in coordinate mapping: 'distributed'\n",
      "Missing bus in coordinate mapping: 'distributed'\n",
      "Missing bus in coordinate mapping: 'distributed'\n",
      "Missing bus in coordinate mapping: 'distributed'\n",
      "Missing bus in coordinate mapping: 'distributed'\n",
      "Missing bus in coordinate mapping: 'distributed'\n"
     ]
    }
   ],
   "source": [
    "x_385 = dict(zip(df_buses_385['buses_id'].astype(str), df_buses_385['x']))\n",
    "y_385 = dict(zip(df_buses_385['buses_id'].astype(str), df_buses_385['y']))\n",
    "\n",
    "for _, row in df_units.iterrows():\n",
    "    gen, bus = row['NationalGridBmUnit'], row['bus']\n",
    "    \n",
    "    try: \n",
    "        coord0 = (y_385[bus], x_385[bus])\n",
    "        coord1 = (row['lat'], row['lon'])\n",
    "        \n",
    "        folium.PolyLine(\n",
    "            locations=[coord0, coord1],\n",
    "            color='black',\n",
    "            weight=0.8,\n",
    "            opacity=0.4,\n",
    "            popup=f\"{gen} → {bus}\"\n",
    "        ).add_to(map_GB)\n",
    "    \n",
    "    except KeyError as e:\n",
    "        print(f\"Missing bus in coordinate mapping: {e}\")\n",
    "        continue"
   ]
  },
  {
   "cell_type": "markdown",
   "id": "11755dc6",
   "metadata": {},
   "source": [
    "## Save the figure"
   ]
  },
  {
   "cell_type": "code",
   "execution_count": 122,
   "id": "8131dd8c",
   "metadata": {},
   "outputs": [],
   "source": [
    "map_GB.save(\"buses_compare.html\")"
   ]
  }
 ],
 "metadata": {
  "kernelspec": {
   "display_name": "NatureEV",
   "language": "python",
   "name": "python3"
  },
  "language_info": {
   "codemirror_mode": {
    "name": "ipython",
    "version": 3
   },
   "file_extension": ".py",
   "mimetype": "text/x-python",
   "name": "python",
   "nbconvert_exporter": "python",
   "pygments_lexer": "ipython3",
   "version": "3.10.18"
  }
 },
 "nbformat": 4,
 "nbformat_minor": 5
}
